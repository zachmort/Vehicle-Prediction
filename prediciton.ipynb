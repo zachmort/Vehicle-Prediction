{
 "cells": [
  {
   "cell_type": "code",
   "execution_count": 20,
   "metadata": {},
   "outputs": [],
   "source": [
    "# Installing packages\n",
    "\n",
    "# Importing Packages\n",
    "import sys\n",
    "assert sys.version_info >= (3, 5)\n",
    "\n",
    "import sklearn\n",
    "assert sklearn.__version__ >= '0.20'\n",
    "\n",
    "import numpy as np\n",
    "import pandas as pd\n",
    "import os\n",
    "\n",
    "%matplotlib inline\n",
    "import matplotlib as mpl\n",
    "import matplotlib.pyplot as plt\n",
    "mpl.rc('axes', labelsize=14)\n",
    "mpl.rc('xtick', labelsize=12)\n",
    "mpl.rc('ytick', labelsize=12)\n",
    "\n",
    "# Saving graph pictures\n",
    "PROJECT_ROOT_DIR = \".\"\n",
    "IMAGES_PATH = os.path.join(PROJECT_ROOT_DIR, 'images')\n",
    "os.makedirs(IMAGES_PATH, exist_ok=True)\n",
    "\n",
    "def save_figures(fig_id, tight_layout=True, fig_extension=\".png\", resolution=300):\n",
    "    path = os.path.join(IMAGES_PATH, fig_id + fig_extension)\n",
    "    plt.savefig(path, format=fig_extension, dpi=resolution)"
   ]
  },
  {
   "cell_type": "code",
   "execution_count": 10,
   "metadata": {},
   "outputs": [
    {
     "name": "stdout",
     "output_type": "stream",
     "text": [
      "/Users/zachmortenson/Documents/GitHub/vehicle_price_prediction\n",
      "['data_folder', '.DS_Store', 'images', 'prediciton.ipynb', '.ipynb_checkpoints']\n"
     ]
    }
   ],
   "source": [
    "os.chdir('.')\n",
    "print(os.getcwd())\n",
    "print(os.listdir())"
   ]
  },
  {
   "cell_type": "markdown",
   "metadata": {},
   "source": [
    "# Get Data"
   ]
  },
  {
   "cell_type": "markdown",
   "metadata": {},
   "source": [
    "### Retrieve data from file path"
   ]
  },
  {
   "cell_type": "code",
   "execution_count": 21,
   "metadata": {},
   "outputs": [],
   "source": [
    "def get_data():\n",
    "    foldersInDir = os.listdir()\n",
    "    folder_name = [i for i in foldersInDir if i.__contains__('data')][0]\n",
    "    data_folder_name = os.getcwd() + \"/\" + folder_name\n",
    "    data_file_path = data_folder_name + \"/\" + \"Car details v3.csv\"\n",
    "    return pd.read_csv(data_file_path)"
   ]
  },
  {
   "cell_type": "markdown",
   "metadata": {},
   "source": [
    "# Exploratory Data Analysis"
   ]
  },
  {
   "cell_type": "code",
   "execution_count": 27,
   "metadata": {},
   "outputs": [
    {
     "data": {
      "text/html": [
       "<div>\n",
       "<style scoped>\n",
       "    .dataframe tbody tr th:only-of-type {\n",
       "        vertical-align: middle;\n",
       "    }\n",
       "\n",
       "    .dataframe tbody tr th {\n",
       "        vertical-align: top;\n",
       "    }\n",
       "\n",
       "    .dataframe thead th {\n",
       "        text-align: right;\n",
       "    }\n",
       "</style>\n",
       "<table border=\"1\" class=\"dataframe\">\n",
       "  <thead>\n",
       "    <tr style=\"text-align: right;\">\n",
       "      <th></th>\n",
       "      <th>name</th>\n",
       "      <th>year</th>\n",
       "      <th>selling_price</th>\n",
       "      <th>km_driven</th>\n",
       "      <th>fuel</th>\n",
       "      <th>seller_type</th>\n",
       "      <th>transmission</th>\n",
       "      <th>owner</th>\n",
       "      <th>mileage</th>\n",
       "      <th>engine</th>\n",
       "      <th>max_power</th>\n",
       "      <th>torque</th>\n",
       "      <th>seats</th>\n",
       "    </tr>\n",
       "  </thead>\n",
       "  <tbody>\n",
       "    <tr>\n",
       "      <th>0</th>\n",
       "      <td>Maruti Swift Dzire VDI</td>\n",
       "      <td>2014</td>\n",
       "      <td>450000</td>\n",
       "      <td>145500</td>\n",
       "      <td>Diesel</td>\n",
       "      <td>Individual</td>\n",
       "      <td>Manual</td>\n",
       "      <td>First Owner</td>\n",
       "      <td>23.4 kmpl</td>\n",
       "      <td>1248 CC</td>\n",
       "      <td>74 bhp</td>\n",
       "      <td>190Nm@ 2000rpm</td>\n",
       "      <td>5.0</td>\n",
       "    </tr>\n",
       "    <tr>\n",
       "      <th>1</th>\n",
       "      <td>Skoda Rapid 1.5 TDI Ambition</td>\n",
       "      <td>2014</td>\n",
       "      <td>370000</td>\n",
       "      <td>120000</td>\n",
       "      <td>Diesel</td>\n",
       "      <td>Individual</td>\n",
       "      <td>Manual</td>\n",
       "      <td>Second Owner</td>\n",
       "      <td>21.14 kmpl</td>\n",
       "      <td>1498 CC</td>\n",
       "      <td>103.52 bhp</td>\n",
       "      <td>250Nm@ 1500-2500rpm</td>\n",
       "      <td>5.0</td>\n",
       "    </tr>\n",
       "    <tr>\n",
       "      <th>2</th>\n",
       "      <td>Honda City 2017-2020 EXi</td>\n",
       "      <td>2006</td>\n",
       "      <td>158000</td>\n",
       "      <td>140000</td>\n",
       "      <td>Petrol</td>\n",
       "      <td>Individual</td>\n",
       "      <td>Manual</td>\n",
       "      <td>Third Owner</td>\n",
       "      <td>17.7 kmpl</td>\n",
       "      <td>1497 CC</td>\n",
       "      <td>78 bhp</td>\n",
       "      <td>12.7@ 2,700(kgm@ rpm)</td>\n",
       "      <td>5.0</td>\n",
       "    </tr>\n",
       "    <tr>\n",
       "      <th>3</th>\n",
       "      <td>Hyundai i20 Sportz Diesel</td>\n",
       "      <td>2010</td>\n",
       "      <td>225000</td>\n",
       "      <td>127000</td>\n",
       "      <td>Diesel</td>\n",
       "      <td>Individual</td>\n",
       "      <td>Manual</td>\n",
       "      <td>First Owner</td>\n",
       "      <td>23.0 kmpl</td>\n",
       "      <td>1396 CC</td>\n",
       "      <td>90 bhp</td>\n",
       "      <td>22.4 kgm at 1750-2750rpm</td>\n",
       "      <td>5.0</td>\n",
       "    </tr>\n",
       "    <tr>\n",
       "      <th>4</th>\n",
       "      <td>Maruti Swift VXI BSIII</td>\n",
       "      <td>2007</td>\n",
       "      <td>130000</td>\n",
       "      <td>120000</td>\n",
       "      <td>Petrol</td>\n",
       "      <td>Individual</td>\n",
       "      <td>Manual</td>\n",
       "      <td>First Owner</td>\n",
       "      <td>16.1 kmpl</td>\n",
       "      <td>1298 CC</td>\n",
       "      <td>88.2 bhp</td>\n",
       "      <td>11.5@ 4,500(kgm@ rpm)</td>\n",
       "      <td>5.0</td>\n",
       "    </tr>\n",
       "  </tbody>\n",
       "</table>\n",
       "</div>"
      ],
      "text/plain": [
       "                           name  year  selling_price  km_driven    fuel  \\\n",
       "0        Maruti Swift Dzire VDI  2014         450000     145500  Diesel   \n",
       "1  Skoda Rapid 1.5 TDI Ambition  2014         370000     120000  Diesel   \n",
       "2      Honda City 2017-2020 EXi  2006         158000     140000  Petrol   \n",
       "3     Hyundai i20 Sportz Diesel  2010         225000     127000  Diesel   \n",
       "4        Maruti Swift VXI BSIII  2007         130000     120000  Petrol   \n",
       "\n",
       "  seller_type transmission         owner     mileage   engine   max_power  \\\n",
       "0  Individual       Manual   First Owner   23.4 kmpl  1248 CC      74 bhp   \n",
       "1  Individual       Manual  Second Owner  21.14 kmpl  1498 CC  103.52 bhp   \n",
       "2  Individual       Manual   Third Owner   17.7 kmpl  1497 CC      78 bhp   \n",
       "3  Individual       Manual   First Owner   23.0 kmpl  1396 CC      90 bhp   \n",
       "4  Individual       Manual   First Owner   16.1 kmpl  1298 CC    88.2 bhp   \n",
       "\n",
       "                     torque  seats  \n",
       "0            190Nm@ 2000rpm    5.0  \n",
       "1       250Nm@ 1500-2500rpm    5.0  \n",
       "2     12.7@ 2,700(kgm@ rpm)    5.0  \n",
       "3  22.4 kgm at 1750-2750rpm    5.0  \n",
       "4     11.5@ 4,500(kgm@ rpm)    5.0  "
      ]
     },
     "execution_count": 27,
     "metadata": {},
     "output_type": "execute_result"
    }
   ],
   "source": [
    "DF_car_data = get_data()\n",
    "DF_car_data.head()"
   ]
  },
  {
   "cell_type": "code",
   "execution_count": 29,
   "metadata": {},
   "outputs": [
    {
     "name": "stdout",
     "output_type": "stream",
     "text": [
      "<class 'pandas.core.frame.DataFrame'>\n",
      "RangeIndex: 8128 entries, 0 to 8127\n",
      "Data columns (total 13 columns):\n",
      " #   Column         Non-Null Count  Dtype  \n",
      "---  ------         --------------  -----  \n",
      " 0   name           8128 non-null   object \n",
      " 1   year           8128 non-null   int64  \n",
      " 2   selling_price  8128 non-null   int64  \n",
      " 3   km_driven      8128 non-null   int64  \n",
      " 4   fuel           8128 non-null   object \n",
      " 5   seller_type    8128 non-null   object \n",
      " 6   transmission   8128 non-null   object \n",
      " 7   owner          8128 non-null   object \n",
      " 8   mileage        7907 non-null   object \n",
      " 9   engine         7907 non-null   object \n",
      " 10  max_power      7913 non-null   object \n",
      " 11  torque         7906 non-null   object \n",
      " 12  seats          7907 non-null   float64\n",
      "dtypes: float64(1), int64(3), object(9)\n",
      "memory usage: 825.6+ KB\n"
     ]
    }
   ],
   "source": [
    "DF_car_data.info()"
   ]
  },
  {
   "cell_type": "code",
   "execution_count": 34,
   "metadata": {},
   "outputs": [
    {
     "data": {
      "text/plain": [
       "Index(['name', 'year', 'selling_price', 'km_driven', 'fuel', 'seller_type',\n",
       "       'transmission', 'owner', 'mileage', 'engine', 'max_power', 'torque',\n",
       "       'seats'],\n",
       "      dtype='object')"
      ]
     },
     "execution_count": 34,
     "metadata": {},
     "output_type": "execute_result"
    }
   ],
   "source": [
    "DF_car_data.columns"
   ]
  },
  {
   "cell_type": "code",
   "execution_count": 44,
   "metadata": {},
   "outputs": [
    {
     "data": {
      "text/html": [
       "<div>\n",
       "<style scoped>\n",
       "    .dataframe tbody tr th:only-of-type {\n",
       "        vertical-align: middle;\n",
       "    }\n",
       "\n",
       "    .dataframe tbody tr th {\n",
       "        vertical-align: top;\n",
       "    }\n",
       "\n",
       "    .dataframe thead th {\n",
       "        text-align: right;\n",
       "    }\n",
       "</style>\n",
       "<table border=\"1\" class=\"dataframe\">\n",
       "  <thead>\n",
       "    <tr style=\"text-align: right;\">\n",
       "      <th></th>\n",
       "      <th>year</th>\n",
       "      <th>selling_price</th>\n",
       "      <th>km_driven</th>\n",
       "      <th>seats</th>\n",
       "    </tr>\n",
       "  </thead>\n",
       "  <tbody>\n",
       "    <tr>\n",
       "      <th>count</th>\n",
       "      <td>8128.00</td>\n",
       "      <td>8128.00</td>\n",
       "      <td>8128.00</td>\n",
       "      <td>7907.00</td>\n",
       "    </tr>\n",
       "    <tr>\n",
       "      <th>mean</th>\n",
       "      <td>2013.80</td>\n",
       "      <td>638271.81</td>\n",
       "      <td>69819.51</td>\n",
       "      <td>5.42</td>\n",
       "    </tr>\n",
       "    <tr>\n",
       "      <th>std</th>\n",
       "      <td>4.04</td>\n",
       "      <td>806253.40</td>\n",
       "      <td>56550.55</td>\n",
       "      <td>0.96</td>\n",
       "    </tr>\n",
       "    <tr>\n",
       "      <th>min</th>\n",
       "      <td>1983.00</td>\n",
       "      <td>29999.00</td>\n",
       "      <td>1.00</td>\n",
       "      <td>2.00</td>\n",
       "    </tr>\n",
       "    <tr>\n",
       "      <th>25%</th>\n",
       "      <td>2011.00</td>\n",
       "      <td>254999.00</td>\n",
       "      <td>35000.00</td>\n",
       "      <td>5.00</td>\n",
       "    </tr>\n",
       "    <tr>\n",
       "      <th>50%</th>\n",
       "      <td>2015.00</td>\n",
       "      <td>450000.00</td>\n",
       "      <td>60000.00</td>\n",
       "      <td>5.00</td>\n",
       "    </tr>\n",
       "    <tr>\n",
       "      <th>75%</th>\n",
       "      <td>2017.00</td>\n",
       "      <td>675000.00</td>\n",
       "      <td>98000.00</td>\n",
       "      <td>5.00</td>\n",
       "    </tr>\n",
       "    <tr>\n",
       "      <th>max</th>\n",
       "      <td>2020.00</td>\n",
       "      <td>10000000.00</td>\n",
       "      <td>2360457.00</td>\n",
       "      <td>14.00</td>\n",
       "    </tr>\n",
       "  </tbody>\n",
       "</table>\n",
       "</div>"
      ],
      "text/plain": [
       "          year  selling_price   km_driven    seats\n",
       "count  8128.00        8128.00     8128.00  7907.00\n",
       "mean   2013.80      638271.81    69819.51     5.42\n",
       "std       4.04      806253.40    56550.55     0.96\n",
       "min    1983.00       29999.00        1.00     2.00\n",
       "25%    2011.00      254999.00    35000.00     5.00\n",
       "50%    2015.00      450000.00    60000.00     5.00\n",
       "75%    2017.00      675000.00    98000.00     5.00\n",
       "max    2020.00    10000000.00  2360457.00    14.00"
      ]
     },
     "execution_count": 44,
     "metadata": {},
     "output_type": "execute_result"
    }
   ],
   "source": [
    "round(DF_car_data.describe(), 2)"
   ]
  },
  {
   "cell_type": "code",
   "execution_count": 41,
   "metadata": {},
   "outputs": [
    {
     "data": {
      "text/plain": [
       "[Maruti Swift Dzire VDI                             129\n",
       " Maruti Alto 800 LXI                                 82\n",
       " Maruti Alto LXi                                     71\n",
       " BMW X4 M Sport X xDrive20d                          62\n",
       " Maruti Swift VDI                                    61\n",
       "                                                   ... \n",
       " Skoda Fabia 1.4 TDI Ambiente                         1\n",
       " Mahindra Scorpio VLX 2WD AT BSIII                    1\n",
       " Renault KWID Climber 1.0 AMT                         1\n",
       " Mahindra XUV300 W8 Option Dual Tone Diesel BSIV      1\n",
       " Toyota Innova 2.5 GX (Diesel) 8 Seater BS IV         1\n",
       " Name: name, Length: 2058, dtype: int64,\n",
       " 2017    1018\n",
       " 2016     859\n",
       " 2018     807\n",
       " 2015     776\n",
       " 2013     670\n",
       " 2012     651\n",
       " 2014     621\n",
       " 2011     592\n",
       " 2019     583\n",
       " 2010     394\n",
       " 2009     246\n",
       " 2008     214\n",
       " 2007     183\n",
       " 2006     124\n",
       " 2005      97\n",
       " 2020      74\n",
       " 2004      62\n",
       " 2003      49\n",
       " 2002      27\n",
       " 2000      22\n",
       " 1999      18\n",
       " 1997      11\n",
       " 2001      10\n",
       " 1998      10\n",
       " 1996       3\n",
       " 1994       3\n",
       " 1995       2\n",
       " 1983       1\n",
       " 1991       1\n",
       " Name: year, dtype: int64,\n",
       " 300000     227\n",
       " 600000     213\n",
       " 350000     209\n",
       " 550000     204\n",
       " 450000     195\n",
       "           ... \n",
       " 308000       1\n",
       " 3900000      1\n",
       " 2850000      1\n",
       " 39000        1\n",
       " 746000       1\n",
       " Name: selling_price, Length: 677, dtype: int64,\n",
       " 120000    536\n",
       " 70000     456\n",
       " 80000     448\n",
       " 60000     425\n",
       " 50000     391\n",
       "          ... \n",
       " 59635       1\n",
       " 123219      1\n",
       " 65300       1\n",
       " 39395       1\n",
       " 191000      1\n",
       " Name: km_driven, Length: 921, dtype: int64,\n",
       " Diesel    4402\n",
       " Petrol    3631\n",
       " CNG         57\n",
       " LPG         38\n",
       " Name: fuel, dtype: int64,\n",
       " Individual          6766\n",
       " Dealer              1126\n",
       " Trustmark Dealer     236\n",
       " Name: seller_type, dtype: int64,\n",
       " Manual       7078\n",
       " Automatic    1050\n",
       " Name: transmission, dtype: int64,\n",
       " First Owner             5289\n",
       " Second Owner            2105\n",
       " Third Owner              555\n",
       " Fourth & Above Owner     174\n",
       " Test Drive Car             5\n",
       " Name: owner, dtype: int64,\n",
       " 18.9 kmpl      225\n",
       " 19.7 kmpl      173\n",
       " 18.6 kmpl      164\n",
       " 21.1 kmpl      157\n",
       " 17.0 kmpl      133\n",
       "               ... \n",
       " 16.34 kmpl       1\n",
       " 19.69 kmpl       1\n",
       " 20.88 km/kg      1\n",
       " 17.8 km/kg       1\n",
       " 16.51 kmpl       1\n",
       " Name: mileage, Length: 393, dtype: int64,\n",
       " 1248 CC    1017\n",
       " 1197 CC     832\n",
       " 998 CC      453\n",
       " 796 CC      444\n",
       " 2179 CC     389\n",
       "            ... \n",
       " 2835 CC       1\n",
       " 1489 CC       1\n",
       " 1422 CC       1\n",
       " 2496 CC       1\n",
       " 1950 CC       1\n",
       " Name: engine, Length: 121, dtype: int64,\n",
       " 74 bhp       377\n",
       " 81.80 bhp    220\n",
       " 88.5 bhp     204\n",
       " 67 bhp       165\n",
       " 46.3 bhp     162\n",
       "             ... \n",
       " 203.2 bhp      1\n",
       " 175 bhp        1\n",
       " 57 bhp         1\n",
       " 80.84 bhp      1\n",
       " 135.1 bhp      1\n",
       " Name: max_power, Length: 322, dtype: int64,\n",
       " 190Nm@ 2000rpm             530\n",
       " 200Nm@ 1750rpm             445\n",
       " 90Nm@ 3500rpm              405\n",
       " 113Nm@ 4200rpm             223\n",
       " 114Nm@ 4000rpm             171\n",
       "                           ... \n",
       " 128Nm@ 3100rpm               1\n",
       " 72.9Nm@ 2250rpm              1\n",
       " 155 Nm at 1600-2800 rpm      1\n",
       " 510Nm@ 1600-2800rpm          1\n",
       " 96  Nm at 3000  rpm          1\n",
       " Name: torque, Length: 441, dtype: int64,\n",
       " 5.0     6254\n",
       " 7.0     1120\n",
       " 8.0      236\n",
       " 4.0      133\n",
       " 9.0       80\n",
       " 6.0       62\n",
       " 10.0      19\n",
       " 2.0        2\n",
       " 14.0       1\n",
       " Name: seats, dtype: int64]"
      ]
     },
     "execution_count": 41,
     "metadata": {},
     "output_type": "execute_result"
    }
   ],
   "source": [
    "# Create a facet grid of all value counts of each variable that is an object\n",
    "[DF_car_data[i].value_counts() for i in DF_car_data.columns]"
   ]
  },
  {
   "cell_type": "code",
   "execution_count": 45,
   "metadata": {},
   "outputs": [
    {
     "data": {
      "text/plain": [
       "array([[<AxesSubplot: title={'center': 'year'}>,\n",
       "        <AxesSubplot: title={'center': 'selling_price'}>],\n",
       "       [<AxesSubplot: title={'center': 'km_driven'}>,\n",
       "        <AxesSubplot: title={'center': 'seats'}>]], dtype=object)"
      ]
     },
     "execution_count": 45,
     "metadata": {},
     "output_type": "execute_result"
    },
    {
     "data": {
      "image/png": "[encoded data removed]",
      "text/plain": [
       "<Figure size 1000x1000 with 4 Axes>"
      ]
     },
     "metadata": {},
     "output_type": "display_data"
    }
   ],
   "source": [
    "%matplotlib inline\n",
    "DF_car_data.hist(figsize=(10,10))"
   ]
  },
  {
   "cell_type": "markdown",
   "metadata": {},
   "source": [
    "# Creating a test set"
   ]
  },
  {
   "cell_type": "code",
   "execution_count": 46,
   "metadata": {},
   "outputs": [],
   "source": [
    "# Random seed \n",
    "np.random.seed(180)"
   ]
  },
  {
   "cell_type": "code",
   "execution_count": 48,
   "metadata": {},
   "outputs": [],
   "source": [
    "from sklearn.model_selection import train_test_split\n",
    "\n",
    "train_set, test_set = train_test_split(DF_car_data, test_size=.2, random_state=180)"
   ]
  },
  {
   "cell_type": "code",
   "execution_count": null,
   "metadata": {},
   "outputs": [],
   "source": []
  }
 ],
 "metadata": {
  "kernelspec": {
   "display_name": "Python 3.11.0 64-bit",
   "language": "python",
   "name": "python3"
  },
  "language_info": {
   "codemirror_mode": {
    "name": "ipython",
    "version": 3
   },
   "file_extension": ".py",
   "mimetype": "text/x-python",
   "name": "python",
   "nbconvert_exporter": "python",
   "pygments_lexer": "ipython3",
   "version": "3.11.0"
  },
  "orig_nbformat": 4,
  "vscode": {
   "interpreter": {
    "hash": "aee8b7b246df8f9039afb4144a1f6fd8d2ca17a180786b69acc140d282b71a49"
   }
  }
 },
 "nbformat": 4,
 "nbformat_minor": 2
}
